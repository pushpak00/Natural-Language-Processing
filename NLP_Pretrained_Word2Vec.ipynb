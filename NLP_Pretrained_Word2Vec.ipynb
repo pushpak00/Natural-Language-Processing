{
  "nbformat": 4,
  "nbformat_minor": 0,
  "metadata": {
    "colab": {
      "provenance": []
    },
    "kernelspec": {
      "name": "python3",
      "display_name": "Python 3"
    }
  },
  "cells": [
    {
      "cell_type": "code",
      "metadata": {
        "colab": {
          "base_uri": "https://localhost:8080/"
        },
        "id": "pj1HF1t38_sD",
        "outputId": "c7c99b30-471e-4297-e2cc-b28375a1f3c6"
      },
      "source": [
        "from google.colab import drive\n",
        "drive.mount('/content/drive')"
      ],
      "execution_count": 1,
      "outputs": [
        {
          "output_type": "stream",
          "name": "stdout",
          "text": [
            "Mounted at /content/drive\n"
          ]
        }
      ]
    },
    {
      "cell_type": "code",
      "metadata": {
        "id": "Rfqpb_6Xu2-o"
      },
      "source": [
        "import os\n",
        "os.chdir(\"/content/drive/My Drive/NLP\")"
      ],
      "execution_count": 2,
      "outputs": []
    },
    {
      "cell_type": "code",
      "metadata": {
        "id": "GmRLoN6kSD3C"
      },
      "source": [
        "from gensim.models import KeyedVectors\n",
        "filename = 'GoogleNews-vectors-negative300.bin'\n",
        "model = KeyedVectors.load_word2vec_format(filename, binary=True)"
      ],
      "execution_count": 3,
      "outputs": []
    },
    {
      "cell_type": "code",
      "metadata": {
        "id": "DEAHpVhH6kdQ",
        "colab": {
          "base_uri": "https://localhost:8080/"
        },
        "outputId": "6da51f41-68fe-4270-8300-ceb43a875fc3"
      },
      "source": [
        "type(model)"
      ],
      "execution_count": 4,
      "outputs": [
        {
          "output_type": "execute_result",
          "data": {
            "text/plain": [
              "gensim.models.keyedvectors.Word2VecKeyedVectors"
            ]
          },
          "metadata": {},
          "execution_count": 4
        }
      ]
    },
    {
      "cell_type": "code",
      "metadata": {
        "id": "TbIdcH6CcPkt"
      },
      "source": [
        "result = model.word_vec(\"mobile\")\n",
        "print(result)"
      ],
      "execution_count": null,
      "outputs": []
    },
    {
      "cell_type": "code",
      "metadata": {
        "id": "CN36Kv0_2kKv",
        "colab": {
          "base_uri": "https://localhost:8080/"
        },
        "outputId": "6a917964-f62d-45ec-da5d-70dd3119c1c6"
      },
      "source": [
        "result.shape"
      ],
      "execution_count": 6,
      "outputs": [
        {
          "output_type": "execute_result",
          "data": {
            "text/plain": [
              "(300,)"
            ]
          },
          "metadata": {},
          "execution_count": 6
        }
      ]
    },
    {
      "cell_type": "code",
      "source": [
        "result = model.similarity('nation','state')\n",
        "result"
      ],
      "metadata": {
        "id": "vNdhLUOtmaTk",
        "colab": {
          "base_uri": "https://localhost:8080/"
        },
        "outputId": "6d1c8f29-49fd-4271-e039-14a6df99f34f"
      },
      "execution_count": 7,
      "outputs": [
        {
          "output_type": "execute_result",
          "data": {
            "text/plain": [
              "0.4697637"
            ]
          },
          "metadata": {},
          "execution_count": 7
        }
      ]
    },
    {
      "cell_type": "code",
      "source": [
        "result = model.similarity('laptop','mountain')\n",
        "result"
      ],
      "metadata": {
        "id": "OqVtHEGBmh67",
        "colab": {
          "base_uri": "https://localhost:8080/"
        },
        "outputId": "a6f0ed47-1da9-46ef-f62c-f0f0b18be8a7"
      },
      "execution_count": 8,
      "outputs": [
        {
          "output_type": "execute_result",
          "data": {
            "text/plain": [
              "0.08407753"
            ]
          },
          "metadata": {},
          "execution_count": 8
        }
      ]
    },
    {
      "cell_type": "code",
      "source": [
        "result = model.similarity('hill','mountain')\n",
        "result"
      ],
      "metadata": {
        "id": "su3LH68Nm6Rq",
        "colab": {
          "base_uri": "https://localhost:8080/"
        },
        "outputId": "5d2c2c62-6d0b-4edb-b385-3672e82533f9"
      },
      "execution_count": 10,
      "outputs": [
        {
          "output_type": "execute_result",
          "data": {
            "text/plain": [
              "0.6287426"
            ]
          },
          "metadata": {},
          "execution_count": 10
        }
      ]
    },
    {
      "cell_type": "code",
      "metadata": {
        "id": "Sb47bEiSksZi",
        "colab": {
          "base_uri": "https://localhost:8080/"
        },
        "outputId": "1bc26a16-80a4-4546-d805-26cede340eeb"
      },
      "source": [
        "result = model.most_similar('mountain',topn=3)\n",
        "print(result)"
      ],
      "execution_count": 13,
      "outputs": [
        {
          "output_type": "stream",
          "name": "stdout",
          "text": [
            "[('mountains', 0.8379505276679993), ('mountainside', 0.7189290523529053), ('mountaintop', 0.6948274374008179)]\n"
          ]
        }
      ]
    },
    {
      "cell_type": "code",
      "source": [
        "result = model.most_similar('start',topn=3)\n",
        "print(result)"
      ],
      "metadata": {
        "id": "qmpg02Y6xxGw",
        "colab": {
          "base_uri": "https://localhost:8080/"
        },
        "outputId": "bd432270-70e8-4077-9198-58e704801a23"
      },
      "execution_count": 14,
      "outputs": [
        {
          "output_type": "stream",
          "name": "stdout",
          "text": [
            "[('begin', 0.6853948831558228), ('started', 0.6305933594703674), ('starting', 0.6140077114105225)]\n"
          ]
        }
      ]
    },
    {
      "cell_type": "code",
      "metadata": {
        "id": "ZWNOBOTZVRzx",
        "colab": {
          "base_uri": "https://localhost:8080/"
        },
        "outputId": "888f6cab-8f40-42e4-adab-caf1cf1aa387"
      },
      "source": [
        "result = model.similarity('reliance','dependence')\n",
        "print(result)"
      ],
      "execution_count": 15,
      "outputs": [
        {
          "output_type": "stream",
          "name": "stdout",
          "text": [
            "0.7727579\n"
          ]
        }
      ]
    },
    {
      "cell_type": "code",
      "metadata": {
        "id": "RFbXTjFRlK-d",
        "colab": {
          "base_uri": "https://localhost:8080/"
        },
        "outputId": "92da0521-c468-4cbe-cc34-00f46be74a1a"
      },
      "source": [
        "result = model.similarity('reliance','independence')\n",
        "print(result)"
      ],
      "execution_count": 16,
      "outputs": [
        {
          "output_type": "stream",
          "name": "stdout",
          "text": [
            "0.22009572\n"
          ]
        }
      ]
    },
    {
      "cell_type": "code",
      "metadata": {
        "id": "gCA8l0XylVcM",
        "colab": {
          "base_uri": "https://localhost:8080/"
        },
        "outputId": "e08936eb-f4c1-42d9-dd9e-f9fb52430dfa"
      },
      "source": [
        "result = model.similarity('woman','queen')\n",
        "print(result)"
      ],
      "execution_count": 17,
      "outputs": [
        {
          "output_type": "stream",
          "name": "stdout",
          "text": [
            "0.31618136\n"
          ]
        }
      ]
    },
    {
      "cell_type": "code",
      "source": [
        "result = model.similarity('lady','queen')\n",
        "print(result)"
      ],
      "metadata": {
        "colab": {
          "base_uri": "https://localhost:8080/"
        },
        "id": "2xD1MvfYN5vV",
        "outputId": "14753c28-9d2c-433e-a8a5-66e9ee7d6de5"
      },
      "execution_count": 19,
      "outputs": [
        {
          "output_type": "stream",
          "name": "stdout",
          "text": [
            "0.46167657\n"
          ]
        }
      ]
    },
    {
      "cell_type": "code",
      "metadata": {
        "colab": {
          "base_uri": "https://localhost:8080/"
        },
        "id": "Djl2FGpGo-ZU",
        "outputId": "08c94c6b-20a8-4d67-c6af-a280ae137373"
      },
      "source": [
        "result = model.similarity('woman','lady')\n",
        "print(result)"
      ],
      "execution_count": 18,
      "outputs": [
        {
          "output_type": "stream",
          "name": "stdout",
          "text": [
            "0.62887865\n"
          ]
        }
      ]
    },
    {
      "cell_type": "code",
      "metadata": {
        "id": "9g0IZFX6vDfG",
        "colab": {
          "base_uri": "https://localhost:8080/"
        },
        "outputId": "825d02fd-93b6-4be9-f075-f87a852401d0"
      },
      "source": [
        "result = model.most_similar(positive=['woman', 'boy'], negative=['man'], topn=1)\n",
        "print(result)"
      ],
      "execution_count": 20,
      "outputs": [
        {
          "output_type": "stream",
          "name": "stdout",
          "text": [
            "[('girl', 0.8881361484527588)]\n"
          ]
        }
      ]
    },
    {
      "cell_type": "code",
      "metadata": {
        "id": "PUkPmrpqvFA3",
        "colab": {
          "base_uri": "https://localhost:8080/"
        },
        "outputId": "3f5f218d-a929-45ec-b706-f4bd54e7d62d"
      },
      "source": [
        "result = model.most_similar(positive=['woman', 'king'], negative=['man'], topn=5)\n",
        "print(result)"
      ],
      "execution_count": 21,
      "outputs": [
        {
          "output_type": "stream",
          "name": "stdout",
          "text": [
            "[('queen', 0.7118192911148071), ('monarch', 0.6189674139022827), ('princess', 0.5902431011199951), ('crown_prince', 0.5499460697174072), ('prince', 0.5377321243286133)]\n"
          ]
        }
      ]
    },
    {
      "cell_type": "code",
      "metadata": {
        "id": "k8MWy1F0X60E",
        "colab": {
          "base_uri": "https://localhost:8080/"
        },
        "outputId": "1d47b306-3d26-467d-9c4f-cf8a73b1f9c4"
      },
      "source": [
        "result = model.most_similar(positive=['child', 'cattle'], negative=['human'], topn=1)\n",
        "print(result)"
      ],
      "execution_count": 22,
      "outputs": [
        {
          "output_type": "stream",
          "name": "stdout",
          "text": [
            "[('calves', 0.5428147315979004)]\n"
          ]
        }
      ]
    },
    {
      "cell_type": "code",
      "metadata": {
        "id": "mKYsM_YcXBdD",
        "colab": {
          "base_uri": "https://localhost:8080/"
        },
        "outputId": "fac869b2-2fcc-47b3-be0d-a7893058d8fe"
      },
      "source": [
        "result = model.most_similar('fantastic',topn=3)\n",
        "print(result)"
      ],
      "execution_count": null,
      "outputs": [
        {
          "output_type": "stream",
          "name": "stdout",
          "text": [
            "[('terrific', 0.8317593932151794), ('wonderful', 0.8047919273376465), ('great', 0.7935211658477783)]\n"
          ]
        }
      ]
    },
    {
      "cell_type": "code",
      "metadata": {
        "id": "bMYH-V4ZcnHY",
        "colab": {
          "base_uri": "https://localhost:8080/"
        },
        "outputId": "fe3783fb-f891-4cfb-be38-8f1ced551850"
      },
      "source": [
        "result = model.most_similar('phenomenal',topn=3)\n",
        "print(result)"
      ],
      "execution_count": null,
      "outputs": [
        {
          "output_type": "stream",
          "name": "stdout",
          "text": [
            "[('incredible', 0.7799631953239441), ('amazing', 0.7642048597335815), ('fantastic', 0.7392951846122742)]\n"
          ]
        }
      ]
    },
    {
      "cell_type": "code",
      "metadata": {
        "id": "pkeOTr5BbA37",
        "colab": {
          "base_uri": "https://localhost:8080/"
        },
        "outputId": "b8b5d506-21ff-4ead-a875-845c01292d42"
      },
      "source": [
        "result = model.similarity('lunch','dinner')\n",
        "print(result)"
      ],
      "execution_count": null,
      "outputs": [
        {
          "output_type": "stream",
          "name": "stdout",
          "text": [
            "0.68157035\n"
          ]
        }
      ]
    },
    {
      "cell_type": "code",
      "metadata": {
        "id": "Xxtw7tA3bhu1",
        "colab": {
          "base_uri": "https://localhost:8080/"
        },
        "outputId": "745374ae-93df-452b-b581-fb9feb68b107"
      },
      "source": [
        "result = model.similarity('lunch','cook')\n",
        "print(result)"
      ],
      "execution_count": null,
      "outputs": [
        {
          "output_type": "stream",
          "name": "stdout",
          "text": [
            "0.35912475\n"
          ]
        }
      ]
    },
    {
      "cell_type": "code",
      "metadata": {
        "id": "3DPMqRwjiOZE",
        "colab": {
          "base_uri": "https://localhost:8080/"
        },
        "outputId": "c6b7d24f-16c4-42a9-d293-0930e1c64ca8"
      },
      "source": [
        "result = model.similarity('soft','hard')\n",
        "print(result)"
      ],
      "execution_count": null,
      "outputs": [
        {
          "output_type": "stream",
          "name": "stdout",
          "text": [
            "0.31624037\n"
          ]
        }
      ]
    },
    {
      "cell_type": "code",
      "metadata": {
        "id": "upgk5PmVjMTT",
        "colab": {
          "base_uri": "https://localhost:8080/"
        },
        "outputId": "fbe57356-bb48-4c7e-b1c6-70c44e1e1195"
      },
      "source": [
        "result = model.similarity('pizza','cheese')\n",
        "print(result)"
      ],
      "execution_count": null,
      "outputs": [
        {
          "output_type": "stream",
          "name": "stdout",
          "text": [
            "0.47083578\n"
          ]
        }
      ]
    },
    {
      "cell_type": "code",
      "metadata": {
        "id": "akk1jMnKZ5FI",
        "colab": {
          "base_uri": "https://localhost:8080/"
        },
        "outputId": "33e8e5cb-97fc-481d-93c8-3562f3111283"
      },
      "source": [
        "result = model.similarity('tiger','cat')\n",
        "print(result)"
      ],
      "execution_count": null,
      "outputs": [
        {
          "output_type": "stream",
          "name": "stdout",
          "text": [
            "0.5172962\n"
          ]
        }
      ]
    },
    {
      "cell_type": "code",
      "metadata": {
        "id": "7JbaaP0_csC9",
        "colab": {
          "base_uri": "https://localhost:8080/"
        },
        "outputId": "d380224d-9a5d-4097-f615-eb2212d2c3d0"
      },
      "source": [
        "result = model.wmdistance('tiger','cat')\n",
        "print(result)"
      ],
      "execution_count": null,
      "outputs": [
        {
          "output_type": "stream",
          "name": "stdout",
          "text": [
            "2.439730227965307\n"
          ]
        }
      ]
    },
    {
      "cell_type": "code",
      "metadata": {
        "id": "uFtbWwpmdKNW",
        "colab": {
          "base_uri": "https://localhost:8080/"
        },
        "outputId": "715bd6cb-512f-435d-8aa6-634656689387"
      },
      "source": [
        "result = model.wmdistance('tiger','lion')\n",
        "print(result)"
      ],
      "execution_count": null,
      "outputs": [
        {
          "output_type": "stream",
          "name": "stdout",
          "text": [
            "0.5121041\n"
          ]
        }
      ]
    },
    {
      "cell_type": "code",
      "metadata": {
        "id": "6LhptmV4Z-gg",
        "colab": {
          "base_uri": "https://localhost:8080/"
        },
        "outputId": "98cd13e0-2bbb-4f18-fdab-0e648a23871b"
      },
      "source": [
        "result = model.wmdistance('lioness','lion')\n",
        "print(result)"
      ],
      "execution_count": null,
      "outputs": [
        {
          "output_type": "stream",
          "name": "stdout",
          "text": [
            "1.2077177551383156\n"
          ]
        }
      ]
    },
    {
      "cell_type": "code",
      "metadata": {
        "id": "AWvFafu70osp",
        "colab": {
          "base_uri": "https://localhost:8080/"
        },
        "outputId": "f8e72564-f302-48e1-98af-f1c6bb26ca6e"
      },
      "source": [
        "result = model.wmdistance('lion','cow')\n",
        "print(result)"
      ],
      "execution_count": null,
      "outputs": [
        {
          "output_type": "stream",
          "name": "stdout",
          "text": [
            "1.9931940170335567\n"
          ]
        }
      ]
    }
  ]
}